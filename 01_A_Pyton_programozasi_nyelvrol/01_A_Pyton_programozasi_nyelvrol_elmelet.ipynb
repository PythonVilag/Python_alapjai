{
  "nbformat": 4,
  "nbformat_minor": 0,
  "metadata": {
    "colab": {
      "name": "01_A_Pyton_programozasi_nyelvrol_elmelet.ipynb",
      "provenance": [],
      "collapsed_sections": []
    },
    "kernelspec": {
      "name": "python3",
      "display_name": "Python 3"
    },
    "language_info": {
      "name": "python"
    }
  },
  "cells": [
    {
      "cell_type": "markdown",
      "source": [
        "`A kód futtatható verziójának a megnyitása:`\n",
        "\n",
        "[![Open In Colab](https://colab.research.google.com/assets/colab-badge.svg)](https://colab.research.google.com/github/PythonVilag/Python_alapjai/blob/main/01_A_Pyton_programozasi_nyelvrol/01_A_Pyton_programozasi_nyelvrol_elmelet.ipynb)"
      ],
      "metadata": {
        "id": "RbYA1bm2Cavz"
      }
    },
    {
      "cell_type": "markdown",
      "source": [
        "# Bevezetés"
      ],
      "metadata": {
        "id": "e5um1VG9Jf9S"
      }
    },
    {
      "cell_type": "markdown",
      "source": [
        "A kurzus során:\n",
        "\n",
        "\n",
        "* Létrehozzuk a programozáshoz szükséges környezetet\n",
        "* Megismergedünk a programozás építőelemeivel majd ezek kombinálásával egyre bonyolultabb feladatokat oldunk meg\n",
        "\n"
      ],
      "metadata": {
        "id": "7kNE_Rx1JuJH"
      }
    },
    {
      "cell_type": "markdown",
      "source": [
        "## Python környezet kialakítása"
      ],
      "metadata": {
        "id": "Wi3jCd-tKdsG"
      }
    },
    {
      "cell_type": "markdown",
      "source": [
        "A környezet kialakítására több módszer is van. \n",
        "\n",
        "* Kezdőknek az első módszer javasolt, mivel ahhoz semmit sem kell telepíteni a számítógépünkre.\n",
        "* A második módszer használata javasolt érettségire készüléskor (mivel a vizsga alatt is olyan környezetet kell hasznánlni) és haladóknak\n",
        "* A harmadik módszert használják a legtöbben akik Pythonnal dolgoznak, viszont elsőre az átláthatatlan és túlságosan bonyulult, ezért csak az alapok elsajátítása után javasolt használni.\n",
        "\n"
      ],
      "metadata": {
        "id": "SHtxVobgNujJ"
      }
    },
    {
      "cell_type": "markdown",
      "source": [
        "### 1. Böngészőben kódolás Google fiók segítségével (Javasolt)"
      ],
      "metadata": {
        "id": "LqFB5HAvKwbQ"
      }
    },
    {
      "cell_type": "markdown",
      "source": [
        "Nyissuk meg a [https://colab.research.google.com/](https://colab.research.google.com/) weboldalt.\n",
        "\n",
        "\n",
        "Az itt létrehozott könyezetben ingyenesen tudok kódot futtatni és könnyen el tudjuk menteni a kész feladatokat [Google Drive](https://drive.google.com/)-ba."
      ],
      "metadata": {
        "id": "k5WnlzN3LCMy"
      }
    },
    {
      "cell_type": "markdown",
      "source": [
        "### 2. Python letöltése és futtatása saját gépen (Haladóknak)"
      ],
      "metadata": {
        "id": "ItyW3lovMZyT"
      }
    },
    {
      "cell_type": "markdown",
      "source": [
        "Navigáljunk a Python hivatalos oldalán a letöltés menüpontra: [https://www.python.org/downloads/](https://www.python.org/downloads/)\n",
        "\n",
        "Töltsük le majd telepítsük az alábbiakra ügyelve:\n",
        "\n"
      ],
      "metadata": {
        "id": "5LR4h3v3Md-a"
      }
    },
    {
      "cell_type": "code",
      "source": [
        "# TODO"
      ],
      "metadata": {
        "id": "rEACtN36NFFt"
      },
      "execution_count": 1,
      "outputs": []
    },
    {
      "cell_type": "markdown",
      "source": [
        "### 3. Anaconda és IDE-k telepítése és beállítása (Későbbi kurzusokhoz)"
      ],
      "metadata": {
        "id": "yd5uEP_aNGnY"
      }
    },
    {
      "cell_type": "markdown",
      "source": [
        "Az Anaconda letöltéséhez használjuk a [hivatalos weboldalt](https://www.anaconda.com/).\n",
        "\n",
        "Legnépszerűbb IDE-k (Integrated Development Environment):\n",
        "*   [Microsoft VS Code](https://code.visualstudio.com/)\n",
        "*   [PyCharm](https://www.jetbrains.com/pycharm/)\n"
      ],
      "metadata": {
        "id": "H53wAEgaPitg"
      }
    },
    {
      "cell_type": "code",
      "source": [
        "# TODO"
      ],
      "metadata": {
        "id": "SFOg9MZMQXcy"
      },
      "execution_count": null,
      "outputs": []
    },
    {
      "cell_type": "markdown",
      "source": [
        ""
      ],
      "metadata": {
        "id": "5-TTdioNQlNw"
      }
    },
    {
      "cell_type": "markdown",
      "source": [
        "## Tananyag szerkezeti felbontása"
      ],
      "metadata": {
        "id": "5rEOoIWqQnVG"
      }
    },
    {
      "cell_type": "code",
      "source": [
        "# TODO"
      ],
      "metadata": {
        "id": "3Ks-nTHAQr47"
      },
      "execution_count": null,
      "outputs": []
    },
    {
      "cell_type": "markdown",
      "source": [
        "# Jelölések"
      ],
      "metadata": {
        "id": "zvf__BjFJb2q"
      }
    },
    {
      "cell_type": "markdown",
      "source": [
        "### Sorba beszúrt kód"
      ],
      "metadata": {
        "id": "Zn0zL4RwR-KA"
      }
    },
    {
      "cell_type": "markdown",
      "source": [
        "Ez a mondat egy példa `inline_code = True` szöveg közi kód formátumára.\n"
      ],
      "metadata": {
        "id": "EPfGyxjHQ2Xw"
      }
    },
    {
      "cell_type": "markdown",
      "source": [
        "### Több soros kód sorok között"
      ],
      "metadata": {
        "id": "bQvtdmiwSLLH"
      }
    },
    {
      "cell_type": "markdown",
      "source": [
        "Ezt a sort követi a kód\n",
        "```python\n",
        "text = 'minta szöveg'\n",
        "if text:\n",
        "  print(text)\n",
        "else:\n",
        "  # TODO: finish code\n",
        "  pass\n",
        "\n",
        "```\n",
        "Ez a sor már a kód után jön."
      ],
      "metadata": {
        "id": "8qWQBu_fSNRE"
      }
    },
    {
      "cell_type": "markdown",
      "source": [
        "### Általunk megadandó értéke"
      ],
      "metadata": {
        "id": "zlalykhHTTXc"
      }
    },
    {
      "cell_type": "markdown",
      "source": [
        "```python\n",
        "for <ideiglenes változó> in <lista neve>:\n",
        "  <új változó> = <ideiglenes változó> + 2\n",
        "```"
      ],
      "metadata": {
        "id": "8ttOELCGTk24"
      }
    },
    {
      "cell_type": "code",
      "source": [
        "# TODO"
      ],
      "metadata": {
        "id": "kuDlrPXmUx5O"
      },
      "execution_count": 2,
      "outputs": []
    },
    {
      "cell_type": "markdown",
      "source": [
        "# Egyéb"
      ],
      "metadata": {
        "id": "xJ4iDn4FQyam"
      }
    },
    {
      "cell_type": "code",
      "source": [
        "# TODO: Algoritmusok, sorrendiség(kihagyás, többszöri lefutás),\n",
        "# nyelvi sajátosságok, változók, műveletek, függvények"
      ],
      "metadata": {
        "id": "FN3iAYEsrFwy"
      },
      "execution_count": null,
      "outputs": []
    },
    {
      "cell_type": "code",
      "source": [
        "# TODO: Leckék során használt jelölések, tananyag felbontása"
      ],
      "metadata": {
        "id": "LnairJWkNrv_"
      },
      "execution_count": null,
      "outputs": []
    }
  ]
}