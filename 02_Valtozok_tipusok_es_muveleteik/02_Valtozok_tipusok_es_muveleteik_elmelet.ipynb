{
  "nbformat": 4,
  "nbformat_minor": 0,
  "metadata": {
    "colab": {
      "name": "02_Valtozok_tipusok_es_muveleteik_elmelet.ipynb",
      "provenance": [],
      "collapsed_sections": []
    },
    "kernelspec": {
      "name": "python3",
      "display_name": "Python 3"
    },
    "language_info": {
      "name": "python"
    }
  },
  "cells": [
    {
      "cell_type": "markdown",
      "source": [
        "`A kód futtatható verziójának a megnyitása:`\n",
        "\n",
        "[![Open In Colab](https://colab.research.google.com/assets/colab-badge.svg)](https://colab.research.google.com/github/PythonVilag/Python_alapjai/blob/main/02_Valtozok_tipusok_es_muveleteik/02_Valtozok_tipusok_es_muveleteik_elmelet.ipynb)"
      ],
      "metadata": {
        "id": "3arrbEIPBC6X"
      }
    },
    {
      "cell_type": "markdown",
      "source": [
        "# Változók"
      ],
      "metadata": {
        "id": "fl6SZuAvirG7"
      }
    },
    {
      "cell_type": "markdown",
      "source": [
        "- Memóriában tárolt adat\n",
        "\n",
        "- Akkor használjuk, ha egy értéket többször is fel szeretnénk használni\n",
        "\n",
        "- Létrehozása: \n",
        "  * 1db egyenlőségjel\n",
        "  * Ékezet mentes karakterek\n",
        "  * Nem kezdődhet számmal\n",
        "  * Nem tartalmazhat szóközt\n",
        "\n",
        "```python\n",
        "<változó_neve> = <változó_értéke>\n",
        "```\n",
        "\n",
        "- Fontos, hogy a név tükrözze célunkat a változóval"
      ],
      "metadata": {
        "id": "2rNQmj7-kxiw"
      }
    },
    {
      "cell_type": "code",
      "source": [
        "valtozo = 3"
      ],
      "metadata": {
        "id": "zLXNuWFUis70"
      },
      "execution_count": null,
      "outputs": []
    },
    {
      "cell_type": "code",
      "source": [
        "valtozo"
      ],
      "metadata": {
        "colab": {
          "base_uri": "https://localhost:8080/"
        },
        "id": "N8cC36_FjgAF",
        "outputId": "4e4713f8-6285-41b8-eb57-dfb40e1b9875"
      },
      "execution_count": null,
      "outputs": [
        {
          "output_type": "execute_result",
          "data": {
            "text/plain": [
              "3"
            ]
          },
          "metadata": {},
          "execution_count": 2
        }
      ]
    },
    {
      "cell_type": "markdown",
      "source": [
        "<sup>Itt a cella visszatérési értékeként a változó értékét láthatjuk.</sup>"
      ],
      "metadata": {
        "id": "KVUYB1-qluzm"
      }
    },
    {
      "cell_type": "markdown",
      "source": [
        "A változó értéke lehet kokrét érték, lehet egy korábbi változó, vagy egy (vagy több) korábbi változóból egy művelettel előállított új érték:  \n",
        "```python\n",
        "<új_változó> = <régi_változó> + 1\n",
        "```"
      ],
      "metadata": {
        "id": "vsucyfA_3KhC"
      }
    },
    {
      "cell_type": "code",
      "source": [
        "uj_valtozo = valtozo + 1"
      ],
      "metadata": {
        "id": "NxqtP2Zn2zHx"
      },
      "execution_count": null,
      "outputs": []
    },
    {
      "cell_type": "code",
      "source": [
        "uj_valtozo"
      ],
      "metadata": {
        "colab": {
          "base_uri": "https://localhost:8080/"
        },
        "id": "DvOeDaBU3DBs",
        "outputId": "a0a95f96-4d03-49e9-a76d-e69554279344"
      },
      "execution_count": null,
      "outputs": [
        {
          "output_type": "execute_result",
          "data": {
            "text/plain": [
              "4"
            ]
          },
          "metadata": {},
          "execution_count": 4
        }
      ]
    },
    {
      "cell_type": "markdown",
      "source": [
        "<sup>Az előző érték (3) megnőtt 1-el.</sup>"
      ],
      "metadata": {
        "id": "tS1o0lpseApk"
      }
    },
    {
      "cell_type": "markdown",
      "source": [
        "Változó megváltoztatása a jelenlegi értéke segítségével:"
      ],
      "metadata": {
        "id": "-JL1ECtpggYa"
      }
    },
    {
      "cell_type": "code",
      "source": [
        "valtozo = valtozo - 2"
      ],
      "metadata": {
        "id": "zNuIwLCMgnJM"
      },
      "execution_count": null,
      "outputs": []
    },
    {
      "cell_type": "code",
      "source": [
        "valtozo"
      ],
      "metadata": {
        "colab": {
          "base_uri": "https://localhost:8080/"
        },
        "id": "5C9Fo1AZgzDI",
        "outputId": "2aa49a7a-d254-4cbb-d9c2-b71bf82554c2"
      },
      "execution_count": null,
      "outputs": [
        {
          "output_type": "execute_result",
          "data": {
            "text/plain": [
              "1"
            ]
          },
          "metadata": {},
          "execution_count": 6
        }
      ]
    },
    {
      "cell_type": "markdown",
      "source": [
        "Nagyon gyakorli parancs, ezért van rá rövidítés:"
      ],
      "metadata": {
        "id": "cB_MCkl-g7RC"
      }
    },
    {
      "cell_type": "code",
      "source": [
        "valtozo += 2"
      ],
      "metadata": {
        "id": "4PIrNyZgg_f9"
      },
      "execution_count": null,
      "outputs": []
    },
    {
      "cell_type": "code",
      "source": [
        "valtozo"
      ],
      "metadata": {
        "colab": {
          "base_uri": "https://localhost:8080/"
        },
        "id": "rxg94mEDhC6b",
        "outputId": "8a14daed-bce0-40c0-f9c8-d11bd74ffa19"
      },
      "execution_count": null,
      "outputs": [
        {
          "output_type": "execute_result",
          "data": {
            "text/plain": [
              "3"
            ]
          },
          "metadata": {},
          "execution_count": 8
        }
      ]
    },
    {
      "cell_type": "markdown",
      "source": [
        "# Típusok"
      ],
      "metadata": {
        "id": "sUJbGDmCijy2"
      }
    },
    {
      "cell_type": "markdown",
      "source": [
        "Az ebben a leckében ismertetett típusok:\n",
        "- Egész számok (integer)\n",
        "- Tört számok (float)\n",
        "- Szöveg (string)\n",
        "- Logikai érték (bool)\n",
        "\n",
        "Új változó létrehozásánál nem szükséges a típus megadása, ezt a Python autómatikusan kezeli."
      ],
      "metadata": {
        "id": "4AfHcZ61lIp6"
      }
    },
    {
      "cell_type": "markdown",
      "source": [
        "Egy változó typusát a type() függvénnyel tudjuk megnézni:"
      ],
      "metadata": {
        "id": "aoQ6NJIPj7KC"
      }
    },
    {
      "cell_type": "code",
      "source": [
        "type(valtozo)"
      ],
      "metadata": {
        "colab": {
          "base_uri": "https://localhost:8080/"
        },
        "id": "Q0A4IHXIj6eA",
        "outputId": "8ca81f11-2e92-481f-ef2a-0f9e4a3b7fc1"
      },
      "execution_count": null,
      "outputs": [
        {
          "output_type": "execute_result",
          "data": {
            "text/plain": [
              "int"
            ]
          },
          "metadata": {},
          "execution_count": 9
        }
      ]
    },
    {
      "cell_type": "markdown",
      "source": [
        "## Egész számok (integer)\n"
      ],
      "metadata": {
        "id": "dTnY8PkdhgxZ"
      }
    },
    {
      "cell_type": "markdown",
      "source": [
        "### Deklarálás (memóriában tárolás)"
      ],
      "metadata": {
        "id": "M4B7ladtgDWH"
      }
    },
    {
      "cell_type": "code",
      "execution_count": null,
      "metadata": {
        "id": "3g_XFggqglZc"
      },
      "outputs": [],
      "source": [
        "egesz_szam_1 = 42\n",
        "egesz_szam_2 = 11"
      ]
    },
    {
      "cell_type": "markdown",
      "source": [
        "### Műveletek"
      ],
      "metadata": {
        "id": "JC9RRz4ngIS-"
      }
    },
    {
      "cell_type": "markdown",
      "source": [
        "#### Összeadás (+)"
      ],
      "metadata": {
        "id": "3HuI5cVXgfIG"
      }
    },
    {
      "cell_type": "code",
      "source": [
        "osszeg = egesz_szam_1 + egesz_szam_2"
      ],
      "metadata": {
        "id": "4oSgYqeXgBiA"
      },
      "execution_count": null,
      "outputs": []
    },
    {
      "cell_type": "markdown",
      "source": [
        "42 + 11 = "
      ],
      "metadata": {
        "id": "KfSZoIeqmonS"
      }
    },
    {
      "cell_type": "code",
      "source": [
        "osszeg"
      ],
      "metadata": {
        "colab": {
          "base_uri": "https://localhost:8080/"
        },
        "id": "mKAHWmlsjiIo",
        "outputId": "d9cb1391-1cfc-4b9a-cbf2-0e75c861209e"
      },
      "execution_count": null,
      "outputs": [
        {
          "output_type": "execute_result",
          "data": {
            "text/plain": [
              "53"
            ]
          },
          "metadata": {},
          "execution_count": 12
        }
      ]
    },
    {
      "cell_type": "markdown",
      "source": [
        "#### Kivonás (-)"
      ],
      "metadata": {
        "id": "bcbXPIbnghC3"
      }
    },
    {
      "cell_type": "code",
      "source": [
        "kulonbseg = egesz_szam_1 - egesz_szam_2"
      ],
      "metadata": {
        "id": "WLp9nah2gTVh"
      },
      "execution_count": null,
      "outputs": []
    },
    {
      "cell_type": "markdown",
      "source": [
        "42 - 11 = "
      ],
      "metadata": {
        "id": "3GPOADsemsmu"
      }
    },
    {
      "cell_type": "code",
      "source": [
        "kulonbseg"
      ],
      "metadata": {
        "colab": {
          "base_uri": "https://localhost:8080/"
        },
        "id": "zvbIoSDvjjAY",
        "outputId": "3a1bd68a-5754-46da-b8b2-19731c4096fc"
      },
      "execution_count": null,
      "outputs": [
        {
          "output_type": "execute_result",
          "data": {
            "text/plain": [
              "31"
            ]
          },
          "metadata": {},
          "execution_count": 14
        }
      ]
    },
    {
      "cell_type": "markdown",
      "source": [
        "#### Szorzás (*)"
      ],
      "metadata": {
        "id": "kKKquHOagiQX"
      }
    },
    {
      "cell_type": "code",
      "source": [
        "szorzat = egesz_szam_1 * egesz_szam_2"
      ],
      "metadata": {
        "id": "_BcVflEIgd0L"
      },
      "execution_count": null,
      "outputs": []
    },
    {
      "cell_type": "markdown",
      "source": [
        "42 * 11 ="
      ],
      "metadata": {
        "id": "U2jYt1y9muhi"
      }
    },
    {
      "cell_type": "code",
      "source": [
        "szorzat"
      ],
      "metadata": {
        "colab": {
          "base_uri": "https://localhost:8080/"
        },
        "id": "Husbcsegjk3g",
        "outputId": "e0c081fb-09b6-4158-e13a-396ba5d199d0"
      },
      "execution_count": null,
      "outputs": [
        {
          "output_type": "execute_result",
          "data": {
            "text/plain": [
              "462"
            ]
          },
          "metadata": {},
          "execution_count": 16
        }
      ]
    },
    {
      "cell_type": "markdown",
      "source": [
        "#### Hatványozás (**)"
      ],
      "metadata": {
        "id": "VO0zpXpHi4ll"
      }
    },
    {
      "cell_type": "code",
      "source": [
        "hatvany = egesz_szam_2 ** 2"
      ],
      "metadata": {
        "id": "vqx96k5Si4F1"
      },
      "execution_count": null,
      "outputs": []
    },
    {
      "cell_type": "markdown",
      "source": [
        "11^2 ="
      ],
      "metadata": {
        "id": "Bc2Gsy82mwnX"
      }
    },
    {
      "cell_type": "code",
      "source": [
        "hatvany"
      ],
      "metadata": {
        "colab": {
          "base_uri": "https://localhost:8080/"
        },
        "id": "57paAHt0jmGn",
        "outputId": "bcbaabac-cdb3-49fa-e5c7-af5004a4b477"
      },
      "execution_count": null,
      "outputs": [
        {
          "output_type": "execute_result",
          "data": {
            "text/plain": [
              "121"
            ]
          },
          "metadata": {},
          "execution_count": 18
        }
      ]
    },
    {
      "cell_type": "markdown",
      "source": [
        "#### Osztás (/)"
      ],
      "metadata": {
        "id": "Tz-72qEEhMpY"
      }
    },
    {
      "cell_type": "code",
      "source": [
        "hanyados = egesz_szam_1 / egesz_szam_2"
      ],
      "metadata": {
        "id": "1A9pOZv2hNmt"
      },
      "execution_count": null,
      "outputs": []
    },
    {
      "cell_type": "markdown",
      "source": [
        "42 / 11 = "
      ],
      "metadata": {
        "id": "fAHwGigtm1Wt"
      }
    },
    {
      "cell_type": "code",
      "source": [
        "hanyados"
      ],
      "metadata": {
        "colab": {
          "base_uri": "https://localhost:8080/"
        },
        "id": "gA13wrSujnli",
        "outputId": "56d7d79f-0480-4277-a86c-87f4418b5921"
      },
      "execution_count": null,
      "outputs": [
        {
          "output_type": "execute_result",
          "data": {
            "text/plain": [
              "3.8181818181818183"
            ]
          },
          "metadata": {},
          "execution_count": 20
        }
      ]
    },
    {
      "cell_type": "markdown",
      "source": [
        "#### Egészosztás (//)"
      ],
      "metadata": {
        "id": "pXQ6_0K5hU4I"
      }
    },
    {
      "cell_type": "code",
      "source": [
        "egeszresz = egesz_szam_1 // egesz_szam_2"
      ],
      "metadata": {
        "id": "GgP1uoGGhTGD"
      },
      "execution_count": null,
      "outputs": []
    },
    {
      "cell_type": "markdown",
      "source": [
        "42 // 11 = "
      ],
      "metadata": {
        "id": "Wuie-V5Gm3v1"
      }
    },
    {
      "cell_type": "code",
      "source": [
        "egeszresz"
      ],
      "metadata": {
        "colab": {
          "base_uri": "https://localhost:8080/"
        },
        "id": "q2JAzGh9jqpu",
        "outputId": "7d3e1038-16d3-456e-e7e5-be35cf900541"
      },
      "execution_count": null,
      "outputs": [
        {
          "output_type": "execute_result",
          "data": {
            "text/plain": [
              "3"
            ]
          },
          "metadata": {},
          "execution_count": 3
        }
      ]
    },
    {
      "cell_type": "markdown",
      "source": [
        "#### Maradékos osztás (%)"
      ],
      "metadata": {
        "id": "Oun4ZCCsjCCS"
      }
    },
    {
      "cell_type": "code",
      "source": [
        "maradek = egesz_szam_1 % egesz_szam_2"
      ],
      "metadata": {
        "id": "dB5chUQvjPpH"
      },
      "execution_count": null,
      "outputs": []
    },
    {
      "cell_type": "markdown",
      "source": [
        "42 % 11 = "
      ],
      "metadata": {
        "id": "cnISCAiIm88S"
      }
    },
    {
      "cell_type": "code",
      "source": [
        "maradek"
      ],
      "metadata": {
        "colab": {
          "base_uri": "https://localhost:8080/"
        },
        "id": "hYUjTcxxjrzb",
        "outputId": "202203db-6eae-4dff-adeb-0e542494b3ed"
      },
      "execution_count": null,
      "outputs": [
        {
          "output_type": "execute_result",
          "data": {
            "text/plain": [
              "9"
            ]
          },
          "metadata": {},
          "execution_count": 5
        }
      ]
    },
    {
      "cell_type": "markdown",
      "source": [
        "Ellenőrzés: \n",
        "3*11 + 9 = 42"
      ],
      "metadata": {
        "id": "H0OBL2bkxA7l"
      }
    },
    {
      "cell_type": "code",
      "source": [
        "egeszresz*egesz_szam_2 + maradek"
      ],
      "metadata": {
        "colab": {
          "base_uri": "https://localhost:8080/"
        },
        "id": "do8YDYscw2od",
        "outputId": "2cbbb74a-eb76-4369-c7af-571314f7a7fd"
      },
      "execution_count": null,
      "outputs": [
        {
          "output_type": "execute_result",
          "data": {
            "text/plain": [
              "42"
            ]
          },
          "metadata": {},
          "execution_count": 7
        }
      ]
    },
    {
      "cell_type": "markdown",
      "source": [
        "## Tört számok (float)\n"
      ],
      "metadata": {
        "id": "16dhcSFjiIvQ"
      }
    },
    {
      "cell_type": "markdown",
      "source": [
        "### Deklarálás"
      ],
      "metadata": {
        "id": "o4C4bk24nl3r"
      }
    },
    {
      "cell_type": "code",
      "source": [
        "tort_szam_1 = 12.02\n",
        "tort_szam_2 = -26.85"
      ],
      "metadata": {
        "id": "Y1l0TlWPiHYE"
      },
      "execution_count": null,
      "outputs": []
    },
    {
      "cell_type": "markdown",
      "source": [
        "### Műveletek"
      ],
      "metadata": {
        "id": "C9VbO7ZSnsAi"
      }
    },
    {
      "cell_type": "markdown",
      "source": [
        "Műveletei megegyeznek az integereknél használtakkal:  \n",
        "- Összeadás (+)\n",
        "- Kivonás (-)\n",
        "- Szorzás (*)\n",
        "- Hatványozás (**)\n",
        "- Osztás (/)\n",
        "- Egész osztás (//)\n",
        "- Maradékos osztás (%)"
      ],
      "metadata": {
        "id": "I5RKPDtujukr"
      }
    },
    {
      "cell_type": "code",
      "source": [
        "tort_osszeg = tort_szam_1 + tort_szam_2"
      ],
      "metadata": {
        "id": "fx45ksJAkEDD"
      },
      "execution_count": null,
      "outputs": []
    },
    {
      "cell_type": "markdown",
      "source": [
        "12.02 + (-26.85) = "
      ],
      "metadata": {
        "id": "l7-axveHpXKg"
      }
    },
    {
      "cell_type": "code",
      "source": [
        "tort_osszeg"
      ],
      "metadata": {
        "colab": {
          "base_uri": "https://localhost:8080/"
        },
        "id": "OchCec2KkOsl",
        "outputId": "133d7a30-35ff-4462-acc0-0a2f98027a9d"
      },
      "execution_count": null,
      "outputs": [
        {
          "output_type": "execute_result",
          "data": {
            "text/plain": [
              "-14.830000000000002"
            ]
          },
          "metadata": {},
          "execution_count": 28
        }
      ]
    },
    {
      "cell_type": "markdown",
      "source": [
        "\n",
        "<sup>A kis hiba, a számábrázolásból ered:\n",
        "https://docs.python.org/3/tutorial/floatingpoint.html</sup>"
      ],
      "metadata": {
        "id": "EF6kz5aimjNI"
      }
    },
    {
      "cell_type": "markdown",
      "source": [
        "Szabad a integer és float között műveletet végezni:"
      ],
      "metadata": {
        "id": "yfkNs0QVkU7t"
      }
    },
    {
      "cell_type": "code",
      "source": [
        "tort_szorzat = egesz_szam_2 * tort_szam_1"
      ],
      "metadata": {
        "id": "0GC_Pe-tkXzl"
      },
      "execution_count": null,
      "outputs": []
    },
    {
      "cell_type": "markdown",
      "source": [
        " 11 \\* 12.02 = "
      ],
      "metadata": {
        "id": "leLLyXG-pRKX"
      }
    },
    {
      "cell_type": "code",
      "source": [
        "tort_szorzat"
      ],
      "metadata": {
        "colab": {
          "base_uri": "https://localhost:8080/"
        },
        "id": "7CTq5ejWkfpD",
        "outputId": "d2298498-1889-4dc8-f785-951ec65e939a"
      },
      "execution_count": null,
      "outputs": [
        {
          "output_type": "execute_result",
          "data": {
            "text/plain": [
              "132.22"
            ]
          },
          "metadata": {},
          "execution_count": 30
        }
      ]
    },
    {
      "cell_type": "markdown",
      "source": [
        "Sőt, néha az integer float-á konvertálódik, anélkül, hogy nekünk ezzel lenne bármi tennivalónk.\n",
        "\n",
        "Korábban:  \n",
        "```hanyados = egesz_szam_1 / egesz_szam_2```"
      ],
      "metadata": {
        "id": "zWh8AUaeoL8m"
      }
    },
    {
      "cell_type": "markdown",
      "source": [
        "42 / 11 = "
      ],
      "metadata": {
        "id": "vg4vlArhqKSP"
      }
    },
    {
      "cell_type": "code",
      "source": [
        "hanyados"
      ],
      "metadata": {
        "colab": {
          "base_uri": "https://localhost:8080/"
        },
        "outputId": "9861b79f-d2a5-4e64-d10a-4cb9f5dc3492",
        "id": "gdu8UrWHqKSQ"
      },
      "execution_count": null,
      "outputs": [
        {
          "output_type": "execute_result",
          "data": {
            "text/plain": [
              "3.8181818181818183"
            ]
          },
          "metadata": {},
          "execution_count": 31
        }
      ]
    },
    {
      "cell_type": "code",
      "source": [
        "type(hanyados)"
      ],
      "metadata": {
        "colab": {
          "base_uri": "https://localhost:8080/"
        },
        "id": "IiR-66DPoVuH",
        "outputId": "3a4f10a9-2056-4671-c62c-a95c9557f960"
      },
      "execution_count": null,
      "outputs": [
        {
          "output_type": "execute_result",
          "data": {
            "text/plain": [
              "float"
            ]
          },
          "metadata": {},
          "execution_count": 32
        }
      ]
    },
    {
      "cell_type": "markdown",
      "source": [
        "## Szöveg (string)\n"
      ],
      "metadata": {
        "id": "6liEriikiVtO"
      }
    },
    {
      "cell_type": "markdown",
      "source": [
        "### Deklarálás"
      ],
      "metadata": {
        "id": "-eVuOmJ-o6_X"
      }
    },
    {
      "cell_type": "markdown",
      "source": [
        "Használhatunk ' vagy \" szimbólumot is, csak ügyenjünk a konzisztenciára:"
      ],
      "metadata": {
        "id": "xuILuHfoosQD"
      }
    },
    {
      "cell_type": "code",
      "source": [
        "szoveg_1 = \"alma\"\n",
        "szoveg_2 = 'fa'"
      ],
      "metadata": {
        "id": "eZdkukXmiTim"
      },
      "execution_count": null,
      "outputs": []
    },
    {
      "cell_type": "markdown",
      "source": [
        "Több soros sting létrehozásához 3 kezdő és 3 záró szimbólumot használunk:"
      ],
      "metadata": {
        "id": "2e1ZVBmWvC3O"
      }
    },
    {
      "cell_type": "code",
      "source": [
        "tobb_soros_szoveg = '''\n",
        "Szia!\n",
        "Ez itt egy három\n",
        "soros   szöveg\n",
        "'''"
      ],
      "metadata": {
        "id": "nUKVnpoYvMhM"
      },
      "execution_count": null,
      "outputs": []
    },
    {
      "cell_type": "code",
      "source": [
        "tobb_soros_szoveg"
      ],
      "metadata": {
        "colab": {
          "base_uri": "https://localhost:8080/",
          "height": 35
        },
        "id": "S-rmvNnUOPH1",
        "outputId": "b5c49304-f96f-4e2c-f5fc-7bacde807de9"
      },
      "execution_count": null,
      "outputs": [
        {
          "output_type": "execute_result",
          "data": {
            "text/plain": [
              "'\\nSzia! \\nEz itt egy három\\nsoros   szöveg\\n'"
            ],
            "application/vnd.google.colaboratory.intrinsic+json": {
              "type": "string"
            }
          },
          "metadata": {},
          "execution_count": 2
        }
      ]
    },
    {
      "cell_type": "markdown",
      "source": [
        "<sup>Vegyük észre a \\n karaktereket a kimenetben. Ezek az új sort (entert) jelző karakterek. Ehhez hasonlóan a tabulátorhoz is tartozik karakter: \\t</sup>"
      ],
      "metadata": {
        "id": "td2xmUocf2dY"
      }
    },
    {
      "cell_type": "markdown",
      "source": [
        "### Műveletek"
      ],
      "metadata": {
        "id": "K-Abbyz1f7Uu"
      }
    },
    {
      "cell_type": "markdown",
      "source": [
        "#### Összeadás (egymás után fűzés)"
      ],
      "metadata": {
        "id": "2pR0clDqHgu4"
      }
    },
    {
      "cell_type": "code",
      "source": [
        "szoveg = szoveg_1 + szoveg_2"
      ],
      "metadata": {
        "id": "4DrLclkcjdrw"
      },
      "execution_count": null,
      "outputs": []
    },
    {
      "cell_type": "markdown",
      "source": [
        "'alma' + 'fa' = "
      ],
      "metadata": {
        "id": "WW0ElH6VHzEl"
      }
    },
    {
      "cell_type": "code",
      "source": [
        "szoveg"
      ],
      "metadata": {
        "colab": {
          "base_uri": "https://localhost:8080/",
          "height": 35
        },
        "id": "_9dbmEfKHsde",
        "outputId": "4abe7e6b-c24b-460a-dde1-cb4f7f341a28"
      },
      "execution_count": null,
      "outputs": [
        {
          "output_type": "execute_result",
          "data": {
            "application/vnd.google.colaboratory.intrinsic+json": {
              "type": "string"
            },
            "text/plain": [
              "'almafa'"
            ]
          },
          "metadata": {},
          "execution_count": 36
        }
      ]
    },
    {
      "cell_type": "markdown",
      "source": [
        "#### Szorzás"
      ],
      "metadata": {
        "id": "ndgDY2Rmo0Lp"
      }
    },
    {
      "cell_type": "code",
      "source": [
        "hang = 'la'\n",
        "dallam = hang * 6"
      ],
      "metadata": {
        "id": "1llYzereo3wp"
      },
      "execution_count": null,
      "outputs": []
    },
    {
      "cell_type": "markdown",
      "source": [
        "dallam = "
      ],
      "metadata": {
        "id": "wwSnmpbxpJat"
      }
    },
    {
      "cell_type": "code",
      "source": [
        "dallam"
      ],
      "metadata": {
        "colab": {
          "base_uri": "https://localhost:8080/",
          "height": 35
        },
        "id": "D-izcDOopKwA",
        "outputId": "30ca4e1d-9052-4f61-e5a9-8ed3b497428f"
      },
      "execution_count": null,
      "outputs": [
        {
          "output_type": "execute_result",
          "data": {
            "application/vnd.google.colaboratory.intrinsic+json": {
              "type": "string"
            },
            "text/plain": [
              "'lalalalalala'"
            ]
          },
          "metadata": {},
          "execution_count": 38
        }
      ]
    },
    {
      "cell_type": "markdown",
      "source": [
        "#### Hossz meghatározás"
      ],
      "metadata": {
        "id": "E_8y3FyYFof1"
      }
    },
    {
      "cell_type": "markdown",
      "source": [
        "A szöveg (és néhány egyéb típus, például a list) hosszát meghatározó függvény:\n",
        "```python\n",
        "len(<szöveg>)\n",
        "```"
      ],
      "metadata": {
        "id": "CSWPgR4PPjf8"
      }
    },
    {
      "cell_type": "code",
      "source": [
        "len('Ez a szöveg 31 karakter hosszú.')"
      ],
      "metadata": {
        "colab": {
          "base_uri": "https://localhost:8080/"
        },
        "id": "jAxTpXJKQhLw",
        "outputId": "d8f27862-6c68-4459-d549-e47e91b41aa1"
      },
      "execution_count": null,
      "outputs": [
        {
          "output_type": "execute_result",
          "data": {
            "text/plain": [
              "31"
            ]
          },
          "metadata": {},
          "execution_count": 39
        }
      ]
    },
    {
      "cell_type": "markdown",
      "source": [
        "<sup>A visszatérési értéke egy egész szám.</sup>"
      ],
      "metadata": {
        "id": "dnWaPMWov0Jp"
      }
    },
    {
      "cell_type": "markdown",
      "source": [
        "#### Szöveg 'szeletelés'"
      ],
      "metadata": {
        "id": "4b2mntwHGFBY"
      }
    },
    {
      "cell_type": "markdown",
      "source": [
        "A szövegben egy karaktert szögletes zárójelek *\\[ \\]* között megadott sorszámának beírásával érünk el, ahol az indexelés 0-val kezdődik.\n",
        "\n",
        "Ez a rész nagyon hasonló a listák szeleteléséhez, amiről később lesz szó."
      ],
      "metadata": {
        "id": "P-iA3acFGdkU"
      }
    },
    {
      "cell_type": "code",
      "source": [
        "teljes_szoveg = 'Darabokra törted a stringem!'"
      ],
      "metadata": {
        "id": "OfrmzdK9H4P8"
      },
      "execution_count": null,
      "outputs": []
    },
    {
      "cell_type": "markdown",
      "source": [
        "Első karakter"
      ],
      "metadata": {
        "id": "swhHBwutIP9o"
      }
    },
    {
      "cell_type": "code",
      "source": [
        "teljes_szoveg[0]"
      ],
      "metadata": {
        "colab": {
          "base_uri": "https://localhost:8080/",
          "height": 35
        },
        "id": "QBEB1-AaGFoZ",
        "outputId": "5a148b05-345b-4bcb-bea0-09de0d2838a9"
      },
      "execution_count": null,
      "outputs": [
        {
          "output_type": "execute_result",
          "data": {
            "application/vnd.google.colaboratory.intrinsic+json": {
              "type": "string"
            },
            "text/plain": [
              "'D'"
            ]
          },
          "metadata": {},
          "execution_count": 41
        }
      ]
    },
    {
      "cell_type": "markdown",
      "source": [
        "Hatodik karakter"
      ],
      "metadata": {
        "id": "jrOcGjGJJL_K"
      }
    },
    {
      "cell_type": "code",
      "source": [
        "teljes_szoveg[5]"
      ],
      "metadata": {
        "colab": {
          "base_uri": "https://localhost:8080/",
          "height": 35
        },
        "id": "ZY9ATEnvJOOy",
        "outputId": "4e159185-347f-4782-956e-99a70bc2cf7a"
      },
      "execution_count": null,
      "outputs": [
        {
          "output_type": "execute_result",
          "data": {
            "application/vnd.google.colaboratory.intrinsic+json": {
              "type": "string"
            },
            "text/plain": [
              "'o'"
            ]
          },
          "metadata": {},
          "execution_count": 42
        }
      ]
    },
    {
      "cell_type": "markdown",
      "source": [
        "Utolsó elemra való hivatkozás"
      ],
      "metadata": {
        "id": "p-QUZ6nbM3RP"
      }
    },
    {
      "cell_type": "code",
      "source": [
        "teljes_szoveg[-1]"
      ],
      "metadata": {
        "colab": {
          "base_uri": "https://localhost:8080/",
          "height": 35
        },
        "id": "5EutlKHYM5rI",
        "outputId": "3e56fc6e-0fd4-4828-a47c-a7c6c6807a75"
      },
      "execution_count": null,
      "outputs": [
        {
          "output_type": "execute_result",
          "data": {
            "application/vnd.google.colaboratory.intrinsic+json": {
              "type": "string"
            },
            "text/plain": [
              "'!'"
            ]
          },
          "metadata": {},
          "execution_count": 81
        }
      ]
    },
    {
      "cell_type": "markdown",
      "source": [
        "Első 5 karakter kijelölése\n",
        "\n",
        "(Itt fontos észrevenni, hogy az 5-ös indexű karakter már nem része a kijelölésnek, vagyis alulról inklúzív, míg felülről exklúzív a darabolás)"
      ],
      "metadata": {
        "id": "F5VirbueIVuC"
      }
    },
    {
      "cell_type": "code",
      "source": [
        "teljes_szoveg[0:5]"
      ],
      "metadata": {
        "colab": {
          "base_uri": "https://localhost:8080/",
          "height": 35
        },
        "id": "ME1CMQjGIcGt",
        "outputId": "99f10e68-b4c1-4a0d-8ec9-6b70121e2f52"
      },
      "execution_count": null,
      "outputs": [
        {
          "output_type": "execute_result",
          "data": {
            "application/vnd.google.colaboratory.intrinsic+json": {
              "type": "string"
            },
            "text/plain": [
              "'Darab'"
            ]
          },
          "metadata": {},
          "execution_count": 43
        }
      ]
    },
    {
      "cell_type": "markdown",
      "source": [
        "Ha nincsen alső vagy felső limit az összes arra a részre eső elem kiválasztásra kerül"
      ],
      "metadata": {
        "id": "cM0DGsYPJl4t"
      }
    },
    {
      "cell_type": "code",
      "source": [
        "teljes_szoveg[:5]"
      ],
      "metadata": {
        "colab": {
          "base_uri": "https://localhost:8080/",
          "height": 35
        },
        "id": "krlTpGnDJljQ",
        "outputId": "f09d2877-194a-4d8c-cbc0-32eb13b7c110"
      },
      "execution_count": null,
      "outputs": [
        {
          "output_type": "execute_result",
          "data": {
            "application/vnd.google.colaboratory.intrinsic+json": {
              "type": "string"
            },
            "text/plain": [
              "'Darab'"
            ]
          },
          "metadata": {},
          "execution_count": 44
        }
      ]
    },
    {
      "cell_type": "code",
      "source": [
        "teljes_szoveg[10:]"
      ],
      "metadata": {
        "colab": {
          "base_uri": "https://localhost:8080/",
          "height": 35
        },
        "id": "6jOwhl5kJymm",
        "outputId": "ad274ca7-7dce-4cc0-9e67-ab26a315051e"
      },
      "execution_count": null,
      "outputs": [
        {
          "output_type": "execute_result",
          "data": {
            "application/vnd.google.colaboratory.intrinsic+json": {
              "type": "string"
            },
            "text/plain": [
              "'törted a stringem!'"
            ]
          },
          "metadata": {},
          "execution_count": 45
        }
      ]
    },
    {
      "cell_type": "code",
      "source": [
        "teljes_szoveg[-5:]"
      ],
      "metadata": {
        "colab": {
          "base_uri": "https://localhost:8080/",
          "height": 35
        },
        "id": "91SbjrIMNDXL",
        "outputId": "a4243a46-28a9-4497-fffc-3b9ef86100ca"
      },
      "execution_count": null,
      "outputs": [
        {
          "output_type": "execute_result",
          "data": {
            "application/vnd.google.colaboratory.intrinsic+json": {
              "type": "string"
            },
            "text/plain": [
              "'ngem!'"
            ]
          },
          "metadata": {},
          "execution_count": 82
        }
      ]
    },
    {
      "cell_type": "markdown",
      "source": [
        "Ha nem létező indexet adunk meg, akkor hibát dob a program"
      ],
      "metadata": {
        "id": "UWhi_ZxBKYJ3"
      }
    },
    {
      "cell_type": "code",
      "source": [
        "# teljes_szoveg[100]"
      ],
      "metadata": {
        "id": "NRcMziyfKZud"
      },
      "execution_count": null,
      "outputs": []
    },
    {
      "cell_type": "markdown",
      "source": [
        "#### Fontosabb függvények"
      ],
      "metadata": {
        "id": "0-3dtYZRpRbs"
      }
    },
    {
      "cell_type": "markdown",
      "source": [
        "Néhány a népszerűbb szövegeken futtatható függvények közül:\n",
        "\n",
        "\n",
        "- ```<szöveg>.lower()``` → minden karaktert kisbetűvé változtat\n",
        "\n",
        "- ```<szöveg>.upper()``` → minden karaktert nagybetűvé változtat\n",
        "\n",
        "- ```<szöveg>.strip()``` → eltávolít minden 'nem szöveget' a szöveg körül (space, tab, enter)\n",
        "\n",
        "- ```<szöveg>.split(<elválasztó szöveg>)``` → a szavakat egy lista egymást követő elemeibe pakolja (listákról később lesz szó). Ha nincs megadva <elválasztó szöveg> akkor szóközönként vált elemet\n",
        "\n",
        "- ```<szöveg>.count(<keresett szöveg>)``` → megadja, hogy keresett szöveg hányszor van jelen a string-ben\n",
        "\n",
        "- ```<szöveg>.find(<keresett szöveg>)``` → megadja, hogy a keresett szöveg a string hanyadik karakternél kezdődik\n",
        "\n",
        "- ```<szöveg>.replace(<régi szöveg>, <új szöveg>)``` → a régi szöveg összes előfordulását kicseréli az új szövegre a string-ben\n",
        "\n",
        "- ```<szöveg>.join(list(<szöveg eleje>, <szöveg közepe>, <szöveg vége>))``` → a listában jelenlévő szövegeket egymás mellé fűzni az eredeti string-el elválasztva"
      ],
      "metadata": {
        "id": "geais2Fip8VY"
      }
    },
    {
      "cell_type": "code",
      "source": [
        "'BÁRCSAK KISBETŰ LEHETNÉK'.lower()"
      ],
      "metadata": {
        "colab": {
          "base_uri": "https://localhost:8080/",
          "height": 35
        },
        "id": "XjklSRqAu3Qb",
        "outputId": "8a34a35e-b0fc-494b-8026-7a10fe454d1d"
      },
      "execution_count": null,
      "outputs": [
        {
          "output_type": "execute_result",
          "data": {
            "application/vnd.google.colaboratory.intrinsic+json": {
              "type": "string"
            },
            "text/plain": [
              "'bárcsak kisbetű lehetnék'"
            ]
          },
          "metadata": {},
          "execution_count": 47
        }
      ]
    },
    {
      "cell_type": "code",
      "source": [
        "'barcsak nagybetű lehetnék'.upper()"
      ],
      "metadata": {
        "colab": {
          "base_uri": "https://localhost:8080/",
          "height": 35
        },
        "id": "6oISHI5duyYq",
        "outputId": "ffe69f30-2fe5-47e3-a760-3d4e4e487a12"
      },
      "execution_count": null,
      "outputs": [
        {
          "output_type": "execute_result",
          "data": {
            "application/vnd.google.colaboratory.intrinsic+json": {
              "type": "string"
            },
            "text/plain": [
              "'BARCSAK NAGYBETŰ LEHETNÉK'"
            ]
          },
          "metadata": {},
          "execution_count": 48
        }
      ]
    },
    {
      "cell_type": "code",
      "source": [
        "'\\t    \\t\\n       szeretem a személyes teret    \\t\\t    \\n'.strip()"
      ],
      "metadata": {
        "colab": {
          "base_uri": "https://localhost:8080/",
          "height": 35
        },
        "id": "rJHBPOVmuyWc",
        "outputId": "f96ff2e2-f630-432a-b364-fe3f827a9574"
      },
      "execution_count": null,
      "outputs": [
        {
          "output_type": "execute_result",
          "data": {
            "application/vnd.google.colaboratory.intrinsic+json": {
              "type": "string"
            },
            "text/plain": [
              "'szeretem a személyes teret'"
            ]
          },
          "metadata": {},
          "execution_count": 49
        }
      ]
    },
    {
      "cell_type": "code",
      "source": [
        "'hát igen, a listákról csak később...'.split()"
      ],
      "metadata": {
        "colab": {
          "base_uri": "https://localhost:8080/"
        },
        "id": "thtd6emTuyT9",
        "outputId": "faa8b192-bb5a-4643-a7eb-6d351e22438a"
      },
      "execution_count": null,
      "outputs": [
        {
          "output_type": "execute_result",
          "data": {
            "text/plain": [
              "['hát', 'igen,', 'a', 'listákról', 'csak', 'később...']"
            ]
          },
          "metadata": {},
          "execution_count": 88
        }
      ]
    },
    {
      "cell_type": "code",
      "source": [
        "'Megy a gőzös, megy a gőzös Kanizsára'.count('megy')"
      ],
      "metadata": {
        "colab": {
          "base_uri": "https://localhost:8080/"
        },
        "id": "h1lYFJItuyF2",
        "outputId": "b36647e0-6d36-4853-f6c3-20bc831c76af"
      },
      "execution_count": null,
      "outputs": [
        {
          "output_type": "execute_result",
          "data": {
            "text/plain": [
              "1"
            ]
          },
          "metadata": {},
          "execution_count": 51
        }
      ]
    },
    {
      "cell_type": "markdown",
      "source": [
        "<sup>Számít a kicsi és nagybetű!</sup>"
      ],
      "metadata": {
        "id": "1ELiAP25iJDZ"
      }
    },
    {
      "cell_type": "code",
      "source": [
        "'A székely és a fia'.replace('fia', 'pálinka')"
      ],
      "metadata": {
        "colab": {
          "base_uri": "https://localhost:8080/",
          "height": 35
        },
        "id": "tZ4w3euFwnJq",
        "outputId": "7bd29900-3a78-4ab4-8158-12f48a0aebc6"
      },
      "execution_count": null,
      "outputs": [
        {
          "output_type": "execute_result",
          "data": {
            "application/vnd.google.colaboratory.intrinsic+json": {
              "type": "string"
            },
            "text/plain": [
              "'A székely és a pálinka'"
            ]
          },
          "metadata": {},
          "execution_count": 52
        }
      ]
    },
    {
      "cell_type": "code",
      "source": [
        "'!!!'.join(['nagyon', 'fontos', 'üzenet'])"
      ],
      "metadata": {
        "colab": {
          "base_uri": "https://localhost:8080/",
          "height": 35
        },
        "id": "jNGqbSA4w1eM",
        "outputId": "d66dbd75-a5f8-4159-b3d9-12f44a7ac619"
      },
      "execution_count": null,
      "outputs": [
        {
          "output_type": "execute_result",
          "data": {
            "application/vnd.google.colaboratory.intrinsic+json": {
              "type": "string"
            },
            "text/plain": [
              "'nagyon!!!fontos!!!üzenet'"
            ]
          },
          "metadata": {},
          "execution_count": 90
        }
      ]
    },
    {
      "cell_type": "markdown",
      "source": [
        "\n",
        "<sup>Számos egyéb szövegeken használható előre megírt függvény létezik:\n",
        "https://docs.python.org/3/library/stdtypes.html#string-methods</sup>"
      ],
      "metadata": {
        "id": "UlLXfjbfmehi"
      }
    },
    {
      "cell_type": "markdown",
      "source": [
        "## Logikai értékek (bool)"
      ],
      "metadata": {
        "id": "9KgDa7BkZV5j"
      }
    },
    {
      "cell_type": "markdown",
      "source": [
        "### Deklarálás"
      ],
      "metadata": {
        "id": "tJY0D-HzZeW2"
      }
    },
    {
      "cell_type": "code",
      "source": [
        "igaz = True"
      ],
      "metadata": {
        "id": "L7e-X6H9ZbEk"
      },
      "execution_count": null,
      "outputs": []
    },
    {
      "cell_type": "code",
      "source": [
        "hamis = False"
      ],
      "metadata": {
        "id": "M1NmDRIdaHCk"
      },
      "execution_count": null,
      "outputs": []
    },
    {
      "cell_type": "markdown",
      "source": [
        "### Műveletek"
      ],
      "metadata": {
        "id": "uRa5pF9txW-k"
      }
    },
    {
      "cell_type": "markdown",
      "source": [
        "#### És"
      ],
      "metadata": {
        "id": "-CFIDCpTxY6g"
      }
    },
    {
      "cell_type": "code",
      "source": [
        "igaz and hamis"
      ],
      "metadata": {
        "colab": {
          "base_uri": "https://localhost:8080/"
        },
        "id": "vKZCu49DxXjD",
        "outputId": "c533d548-a073-402d-a3f7-ed32b8c46dc0"
      },
      "execution_count": null,
      "outputs": [
        {
          "output_type": "execute_result",
          "data": {
            "text/plain": [
              "False"
            ]
          },
          "metadata": {},
          "execution_count": 56
        }
      ]
    },
    {
      "cell_type": "markdown",
      "source": [
        "#### Vagy"
      ],
      "metadata": {
        "id": "CJzYii1Dx8V8"
      }
    },
    {
      "cell_type": "code",
      "source": [
        "igaz or hamis"
      ],
      "metadata": {
        "colab": {
          "base_uri": "https://localhost:8080/"
        },
        "id": "WlChGOH5x8yd",
        "outputId": "b47f7dfd-216c-4c11-84d3-d27650093c61"
      },
      "execution_count": null,
      "outputs": [
        {
          "output_type": "execute_result",
          "data": {
            "text/plain": [
              "True"
            ]
          },
          "metadata": {},
          "execution_count": 92
        }
      ]
    },
    {
      "cell_type": "markdown",
      "source": [
        "#### Nem"
      ],
      "metadata": {
        "id": "6Pbtrm7NyAW5"
      }
    },
    {
      "cell_type": "code",
      "source": [
        "not hamis"
      ],
      "metadata": {
        "colab": {
          "base_uri": "https://localhost:8080/"
        },
        "id": "kgvvfxz7yAnF",
        "outputId": "71892be6-321e-46cf-ca06-83e92cfefc71"
      },
      "execution_count": null,
      "outputs": [
        {
          "output_type": "execute_result",
          "data": {
            "text/plain": [
              "True"
            ]
          },
          "metadata": {},
          "execution_count": 58
        }
      ]
    },
    {
      "cell_type": "markdown",
      "source": [
        "Sok további művelet is boolean értéket ad eredményül, de ezekről majd később. (például: egyenlő?, nagyobb?)"
      ],
      "metadata": {
        "id": "SFvrbaEcxe1F"
      }
    },
    {
      "cell_type": "markdown",
      "source": [
        "# Típus konverziók"
      ],
      "metadata": {
        "id": "jjnqVtqnoj1i"
      }
    },
    {
      "cell_type": "markdown",
      "source": [
        "Fontos arra figyelni, hogy szöveg (string) és numerikus értékeket (integer, float) nem tudunk összeadni, vagy egyéb direkt műveleteket végezni rajtuk.\n",
        "\n",
        "Ahhoz, hogy ez lehetséges legyen azonos típusra kell őket hozni típus konverziók alkalmazásával."
      ],
      "metadata": {
        "id": "HsUFV98tykmA"
      }
    },
    {
      "cell_type": "markdown",
      "source": [
        "## Szám → Szöveg"
      ],
      "metadata": {
        "id": "7NlxYh68Gn1r"
      }
    },
    {
      "cell_type": "code",
      "source": [
        "szam = 11\n",
        "szoveg_szambol = str(szam)"
      ],
      "metadata": {
        "id": "dRqN55FYolnm"
      },
      "execution_count": null,
      "outputs": []
    },
    {
      "cell_type": "code",
      "source": [
        "mondat = 'A kedvenc számom a ' + szoveg_szambol + '.'"
      ],
      "metadata": {
        "id": "1Hq5ZhjwG0w2"
      },
      "execution_count": null,
      "outputs": []
    },
    {
      "cell_type": "markdown",
      "source": [
        "mondat = "
      ],
      "metadata": {
        "id": "9GH3fdOp1As7"
      }
    },
    {
      "cell_type": "code",
      "source": [
        "mondat"
      ],
      "metadata": {
        "colab": {
          "base_uri": "https://localhost:8080/",
          "height": 35
        },
        "id": "NQqWv8_j0-qU",
        "outputId": "b20726c0-c7f2-4115-fa3c-6efab15fbf74"
      },
      "execution_count": null,
      "outputs": [
        {
          "output_type": "execute_result",
          "data": {
            "application/vnd.google.colaboratory.intrinsic+json": {
              "type": "string"
            },
            "text/plain": [
              "'A kedvenc számom a 11.'"
            ]
          },
          "metadata": {},
          "execution_count": 61
        }
      ]
    },
    {
      "cell_type": "code",
      "source": [
        "# mondat = 'A kedvenc számom a ' + szam + '.'"
      ],
      "metadata": {
        "id": "OleT_7U0HFaL"
      },
      "execution_count": null,
      "outputs": []
    },
    {
      "cell_type": "markdown",
      "source": [
        "<sup>Nem tudunk összeadni szöveget és számot.</sup>"
      ],
      "metadata": {
        "id": "ZEOYQ0iwmzxy"
      }
    },
    {
      "cell_type": "markdown",
      "source": [
        "## Szöveg → Szám"
      ],
      "metadata": {
        "id": "b6Ju7xyIHJNH"
      }
    },
    {
      "cell_type": "markdown",
      "source": [
        "### int"
      ],
      "metadata": {
        "id": "Jd5Dy9ePJciQ"
      }
    },
    {
      "cell_type": "code",
      "source": [
        "szoveg = '13'\n",
        "szam_szovegbol = int(szoveg)"
      ],
      "metadata": {
        "id": "6RcN2bY7JY_d"
      },
      "execution_count": null,
      "outputs": []
    },
    {
      "cell_type": "code",
      "source": [
        "11 + szam_szovegbol"
      ],
      "metadata": {
        "colab": {
          "base_uri": "https://localhost:8080/"
        },
        "id": "w57HMv5RJiQF",
        "outputId": "08d5e0db-bec8-464f-b837-74c54cdc4815"
      },
      "execution_count": null,
      "outputs": [
        {
          "output_type": "execute_result",
          "data": {
            "text/plain": [
              "24"
            ]
          },
          "metadata": {},
          "execution_count": 100
        }
      ]
    },
    {
      "cell_type": "markdown",
      "source": [
        "### float"
      ],
      "metadata": {
        "id": "AhUKSaQZJf8z"
      }
    },
    {
      "cell_type": "code",
      "source": [
        "szoveg = '17.3'\n",
        "szam_szovegbol = float(szoveg)"
      ],
      "metadata": {
        "id": "anJisiZ0HNiK"
      },
      "execution_count": null,
      "outputs": []
    },
    {
      "cell_type": "code",
      "source": [
        "13.8 + szam_szovegbol"
      ],
      "metadata": {
        "colab": {
          "base_uri": "https://localhost:8080/"
        },
        "id": "rDFFf9WFHVoT",
        "outputId": "b80e5123-307d-43e9-faa7-ec09ff7ac216"
      },
      "execution_count": null,
      "outputs": [
        {
          "output_type": "execute_result",
          "data": {
            "text/plain": [
              "31.1"
            ]
          },
          "metadata": {},
          "execution_count": 66
        }
      ]
    },
    {
      "cell_type": "code",
      "source": [
        "szoveg = '17.3'\n",
        " # szam_szovegbol = int(szoveg)"
      ],
      "metadata": {
        "id": "O2Fws5aBIWgg"
      },
      "execution_count": null,
      "outputs": []
    },
    {
      "cell_type": "code",
      "source": [
        "szam_szovegbol = int(float(szoveg))"
      ],
      "metadata": {
        "id": "7eaberOmIfYd"
      },
      "execution_count": null,
      "outputs": []
    },
    {
      "cell_type": "markdown",
      "source": [
        "## Szám → Logikai érték"
      ],
      "metadata": {
        "id": "nqKenm3Er5kP"
      }
    },
    {
      "cell_type": "markdown",
      "source": [
        "Ha az érték nem 0, akkor Igaz:"
      ],
      "metadata": {
        "id": "IqDi3_iksUB8"
      }
    },
    {
      "cell_type": "code",
      "source": [
        "bool(1.2)"
      ],
      "metadata": {
        "colab": {
          "base_uri": "https://localhost:8080/"
        },
        "id": "-qDRj_K2sHrk",
        "outputId": "6137eede-43d3-42ae-df7b-085ed5c06dd9"
      },
      "execution_count": null,
      "outputs": [
        {
          "output_type": "execute_result",
          "data": {
            "text/plain": [
              "True"
            ]
          },
          "metadata": {},
          "execution_count": 69
        }
      ]
    },
    {
      "cell_type": "code",
      "source": [
        "bool(0)"
      ],
      "metadata": {
        "colab": {
          "base_uri": "https://localhost:8080/"
        },
        "id": "WDo6FHsWsRfy",
        "outputId": "03ca2246-4766-4862-ab73-4d1b14beaffb"
      },
      "execution_count": null,
      "outputs": [
        {
          "output_type": "execute_result",
          "data": {
            "text/plain": [
              "False"
            ]
          },
          "metadata": {},
          "execution_count": 110
        }
      ]
    },
    {
      "cell_type": "markdown",
      "source": [
        "## Szöveg → Logikai érték"
      ],
      "metadata": {
        "id": "KcD08EYHspYR"
      }
    },
    {
      "cell_type": "markdown",
      "source": [
        "Ha a szöveg nem üres akkor Igaz:"
      ],
      "metadata": {
        "id": "jUvOG8A1spYR"
      }
    },
    {
      "cell_type": "code",
      "source": [
        "bool('Nem üres szöveg')"
      ],
      "metadata": {
        "colab": {
          "base_uri": "https://localhost:8080/"
        },
        "outputId": "3d5f5c0b-8f3a-4fdd-c10f-bc5b472578df",
        "id": "7dR60WKXspYR"
      },
      "execution_count": null,
      "outputs": [
        {
          "output_type": "execute_result",
          "data": {
            "text/plain": [
              "True"
            ]
          },
          "metadata": {},
          "execution_count": 71
        }
      ]
    },
    {
      "cell_type": "code",
      "source": [
        "bool('')"
      ],
      "metadata": {
        "colab": {
          "base_uri": "https://localhost:8080/"
        },
        "outputId": "c8c77672-c1b2-4fce-fb36-7aae37b099ec",
        "id": "Rv-OYtYtspYR"
      },
      "execution_count": null,
      "outputs": [
        {
          "output_type": "execute_result",
          "data": {
            "text/plain": [
              "False"
            ]
          },
          "metadata": {},
          "execution_count": 72
        }
      ]
    }
  ]
}